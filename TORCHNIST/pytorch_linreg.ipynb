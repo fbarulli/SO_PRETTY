{
  "nbformat": 4,
  "nbformat_minor": 0,
  "metadata": {
    "colab": {
      "provenance": []
    },
    "kernelspec": {
      "name": "python3",
      "display_name": "Python 3"
    },
    "language_info": {
      "name": "python"
    }
  },
  "cells": [
    {
      "cell_type": "markdown",
      "source": [
        "# LinReg"
      ],
      "metadata": {
        "id": "MRRQCiQWoCik"
      }
    },
    {
      "cell_type": "code",
      "source": [
        "car_prices_array = [3,4,5,6,7,8,9]\n",
        "car_price_np = np.array(car_prices_array,dtype=np.float32)\n",
        "car_price_np = car_price_np.reshape(-1,1)\n",
        "car_price_tensor = Variable(torch.from_numpy(car_price_np))\n",
        "\n",
        "# lets define number of car sell\n",
        "number_of_car_sell_array = [ 7.5, 7, 6.5, 6.0, 5.5, 5.0, 4.5]\n",
        "number_of_car_sell_np = np.array(number_of_car_sell_array,dtype=np.float32)\n",
        "number_of_car_sell_np = number_of_car_sell_np.reshape(-1,1)\n",
        "number_of_car_sell_tensor = Variable(torch.from_numpy(number_of_car_sell_np))\n",
        "\n",
        "\n",
        "import matplotlib.pyplot as plt\n",
        "plt.scatter(car_prices_array,number_of_car_sell_array)\n",
        "plt.xlabel(\"Car Price $\")\n",
        "plt.ylabel(\"Number of Car Sell\")\n",
        "plt.title(\"Car Price$ VS Number of Car Sell\")\n",
        "plt.show()"
      ],
      "metadata": {
        "colab": {
          "base_uri": "https://localhost:8080/",
          "height": 472
        },
        "id": "R1aW-7QbWVZ9",
        "outputId": "3dbe233f-fcb7-409b-c7e1-e787caecc696"
      },
      "execution_count": null,
      "outputs": [
        {
          "output_type": "display_data",
          "data": {
            "text/plain": [
              "<Figure size 640x480 with 1 Axes>"
            ],
            "image/png": "[encoded data removed]"
          },
          "metadata": {}
        }
      ]
    },
    {
      "cell_type": "code",
      "source": [
        "np.array(car_prices_array,dtype=np.float32).reshape(-1,1)"
      ],
      "metadata": {
        "colab": {
          "base_uri": "https://localhost:8080/"
        },
        "id": "AxQCizNIWWN7",
        "outputId": "210c79cd-7aa0-4642-a4d9-1cc93db349a0"
      },
      "execution_count": null,
      "outputs": [
        {
          "output_type": "execute_result",
          "data": {
            "text/plain": [
              "array([[3.],\n",
              "       [4.],\n",
              "       [5.],\n",
              "       [6.],\n",
              "       [7.],\n",
              "       [8.],\n",
              "       [9.]], dtype=float32)"
            ]
          },
          "metadata": {},
          "execution_count": 18
        }
      ]
    },
    {
      "cell_type": "code",
      "source": [
        "'''\n",
        "\n",
        "Create class\n",
        "\n",
        "define model\n",
        "\n",
        "MSE\n",
        "\n",
        "Optimization\n",
        "\n",
        "training_loop\n",
        "\n",
        "\n",
        "\n",
        "'''"
      ],
      "metadata": {
        "id": "3bPYChxaSiG6"
      },
      "execution_count": null,
      "outputs": []
    },
    {
      "cell_type": "code",
      "execution_count": null,
      "metadata": {
        "id": "RLwCPJkSP5xs"
      },
      "outputs": [],
      "source": [
        "import numpy as np \n",
        "import pandas as pd\n",
        "import matplotlib.pyplot as plt\n",
        "import torch\n",
        "from torch.autograd import Variable\n",
        "import torch.nn as nn \n",
        "import warnings\n",
        "warnings.filterwarnings(\"ignore\")"
      ]
    },
    {
      "cell_type": "code",
      "source": [
        "#      create class\n",
        "\n",
        "\n",
        "\n",
        "class LinReg(nn.Module):\n",
        "    def __init__(self, input_size, output_size):\n",
        "        super(LinReg, self).__init__()\n",
        "        #linear function\n",
        "        self.linear = nn.Linear(input_dim, output_dim)\n",
        "\n",
        "    def forward(self, x):\n",
        "        return self.linear(x)    "
      ],
      "metadata": {
        "id": "egFRb9SsP_3_"
      },
      "execution_count": null,
      "outputs": []
    },
    {
      "cell_type": "code",
      "source": [
        "#      define model\n",
        "\n",
        "input_dim = 1\n",
        "output_dim = 1\n",
        "model = LinReg(input_dim, output_dim)"
      ],
      "metadata": {
        "id": "ubpTS6wUP_6j"
      },
      "execution_count": null,
      "outputs": []
    },
    {
      "cell_type": "code",
      "source": [
        "#      MSE\n",
        "\n",
        "mse = nn.MSELoss()"
      ],
      "metadata": {
        "id": "tTI4QdttP_9Z"
      },
      "execution_count": null,
      "outputs": []
    },
    {
      "cell_type": "code",
      "source": [
        "#         Optimization\n",
        "\n",
        "\n",
        "learning_rate = 0.02\n",
        "optimizer = torch.optim.SGD(model.parameters(), lr = learning_rate)"
      ],
      "metadata": {
        "id": "XxVPHby_QAAM"
      },
      "execution_count": null,
      "outputs": []
    },
    {
      "cell_type": "code",
      "source": [
        "#    training_loop\n",
        "\n",
        "\n",
        "loss_list = []\n",
        "iteration_number = 1001\n",
        "\n",
        "for iteration in range(iteration_number):\n",
        "    \n",
        "    optimizer.zero_grad()\n",
        "\n",
        "    results = model(car_price_tensor)\n",
        "    loss = mse(results, number_of_car_sell_tensor)\n",
        "    loss.backward()\n",
        "    optimizer.step()\n",
        "    loss_list.append(loss.data)\n",
        "\n",
        "    if(iteration % 50 ==0):\n",
        "        print('epoch {}, loss {}'.format(iteration, loss.data))"
      ],
      "metadata": {
        "colab": {
          "base_uri": "https://localhost:8080/"
        },
        "id": "9PnBVEBvQACz",
        "outputId": "3411f712-c4af-4828-d46d-217d5bc30153"
      },
      "execution_count": null,
      "outputs": [
        {
          "output_type": "stream",
          "name": "stdout",
          "text": [
            "epoch 0, loss 49.51255416870117\n",
            "epoch 50, loss 4.559309482574463\n",
            "epoch 100, loss 3.0809166431427\n",
            "epoch 150, loss 2.081904649734497\n",
            "epoch 200, loss 1.4068297147750854\n",
            "epoch 250, loss 0.9506534337997437\n",
            "epoch 300, loss 0.6423963904380798\n",
            "epoch 350, loss 0.4340938925743103\n",
            "epoch 400, loss 0.29333558678627014\n",
            "epoch 450, loss 0.19821952283382416\n",
            "epoch 500, loss 0.13394509255886078\n",
            "epoch 550, loss 0.0905124619603157\n",
            "epoch 600, loss 0.061163246631622314\n",
            "epoch 650, loss 0.04133031144738197\n",
            "epoch 700, loss 0.02792835794389248\n",
            "epoch 750, loss 0.01887233555316925\n",
            "epoch 800, loss 0.012752817012369633\n",
            "epoch 850, loss 0.008617646060883999\n",
            "epoch 900, loss 0.005823430139571428\n",
            "epoch 950, loss 0.003935118205845356\n",
            "epoch 1000, loss 0.0026592158246785402\n"
          ]
        }
      ]
    },
    {
      "cell_type": "code",
      "source": [
        "plt.plot(range(iteration_number), loss_list)\n",
        "plt.xlabel(\"number of Iterations\")\n",
        "plt.ylabel(\"Loss\")\n",
        "plt.show()"
      ],
      "metadata": {
        "colab": {
          "base_uri": "https://localhost:8080/",
          "height": 449
        },
        "id": "iwDeq5BGQAFs",
        "outputId": "8e1a3150-7b04-4935-db26-9a7faaef9e26"
      },
      "execution_count": null,
      "outputs": [
        {
          "output_type": "display_data",
          "data": {
            "text/plain": [
              "<Figure size 640x480 with 1 Axes>"
            ],
            "image/png": "[encoded data removed]"
          },
          "metadata": {}
        }
      ]
    },
    {
      "cell_type": "code",
      "source": [
        "model(car_price_tensor)"
      ],
      "metadata": {
        "colab": {
          "base_uri": "https://localhost:8080/"
        },
        "id": "prz2p89UQAIe",
        "outputId": "a8a25501-33cf-42d1-d73f-ec2b6b2ffc53"
      },
      "execution_count": null,
      "outputs": [
        {
          "output_type": "execute_result",
          "data": {
            "text/plain": [
              "tensor([[7.4108],\n",
              "        [6.9353],\n",
              "        [6.4597],\n",
              "        [5.9841],\n",
              "        [5.5085],\n",
              "        [5.0330],\n",
              "        [4.5574]], grad_fn=<AddmmBackward0>)"
            ]
          },
          "metadata": {},
          "execution_count": 21
        }
      ]
    },
    {
      "cell_type": "code",
      "source": [
        "model(car_price_tensor).data"
      ],
      "metadata": {
        "colab": {
          "base_uri": "https://localhost:8080/"
        },
        "id": "Ivg6cPgImhJv",
        "outputId": "67f3938d-bd7d-4b1b-d330-6c547b1fc041"
      },
      "execution_count": null,
      "outputs": [
        {
          "output_type": "execute_result",
          "data": {
            "text/plain": [
              "tensor([[7.4108],\n",
              "        [6.9353],\n",
              "        [6.4597],\n",
              "        [5.9841],\n",
              "        [5.5085],\n",
              "        [5.0330],\n",
              "        [4.5574]])"
            ]
          },
          "metadata": {},
          "execution_count": 22
        }
      ]
    },
    {
      "cell_type": "code",
      "source": [
        "model(car_price_tensor).data.numpy()"
      ],
      "metadata": {
        "colab": {
          "base_uri": "https://localhost:8080/"
        },
        "id": "vo4szmhgmhMW",
        "outputId": "b9260a68-b214-4f0c-8ef6-3d8c5e5cc724"
      },
      "execution_count": null,
      "outputs": [
        {
          "output_type": "execute_result",
          "data": {
            "text/plain": [
              "array([[7.4108434],\n",
              "       [6.9352674],\n",
              "       [6.4596915],\n",
              "       [5.9841156],\n",
              "       [5.5085397],\n",
              "       [5.0329638],\n",
              "       [4.557388 ]], dtype=float32)"
            ]
          },
          "metadata": {},
          "execution_count": 23
        }
      ]
    },
    {
      "cell_type": "code",
      "source": [
        "predicted = model(car_price_tensor).data.numpy()\n",
        "\n",
        "plt.scatter(car_prices_array,number_of_car_sell_array,label = \"original data\",color =\"red\")\n",
        "plt.scatter(car_prices_array,predicted,label = \"predicted data\",color =\"blue\")\n",
        "\n",
        "# predict if car price is 10$, what will be the number of car sell\n",
        "#predicted_10 = model(torch.from_numpy(np.array([10]))).data.numpy()\n",
        "#plt.scatter(10,predicted_10.data,label = \"car price 10$\",color =\"green\")\n",
        "plt.legend()\n",
        "plt.xlabel(\"Car Price $\")\n",
        "plt.ylabel(\"Number of Car Sell\")\n",
        "plt.title(\"Original vs Predicted values\")\n",
        "plt.show()"
      ],
      "metadata": {
        "colab": {
          "base_uri": "https://localhost:8080/",
          "height": 472
        },
        "id": "Iq05FolFmhPB",
        "outputId": "6b05fcd1-2646-40ed-9f3b-bb0372d9cc6c"
      },
      "execution_count": null,
      "outputs": [
        {
          "output_type": "display_data",
          "data": {
            "text/plain": [
              "<Figure size 640x480 with 1 Axes>"
            ],
            "image/png": "[encoded data removed]"
          },
          "metadata": {}
        }
      ]
    },
    {
      "cell_type": "code",
      "source": [],
      "metadata": {
        "id": "qKO_X0s8mhRy"
      },
      "execution_count": null,
      "outputs": []
    }
  ]
}